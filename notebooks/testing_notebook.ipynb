{
 "cells": [
  {
   "cell_type": "code",
   "execution_count": 1,
   "metadata": {
    "collapsed": true
   },
   "outputs": [],
   "source": [
    "import sys; sys.path.append(\"../datablocks/\")"
   ]
  },
  {
   "cell_type": "code",
   "execution_count": 2,
   "metadata": {},
   "outputs": [
    {
     "name": "stdout",
     "output_type": "stream",
     "text": [
      "[2017-06-30 18:38:44,981] {__init__.py:57} INFO - Using executor SequentialExecutor\n"
     ]
    }
   ],
   "source": [
    "from datablock import DataBlock\n",
    "from transform import Transform\n",
    "from depositor import Depositor\n",
    "from orchestration import create_dag"
   ]
  },
  {
   "cell_type": "code",
   "execution_count": 3,
   "metadata": {
    "collapsed": true
   },
   "outputs": [],
   "source": [
    "%load_ext autoreload\n",
    "%autoreload 2"
   ]
  },
  {
   "cell_type": "code",
   "execution_count": 4,
   "metadata": {
    "collapsed": true
   },
   "outputs": [],
   "source": [
    "dep = Depositor(\"deposit.sh\", \"test_1.csv\")"
   ]
  },
  {
   "cell_type": "code",
   "execution_count": 5,
   "metadata": {
    "collapsed": true
   },
   "outputs": [],
   "source": [
    "trans = Transform(\"transform.sh\", \"test_1.csv\", \"test_2.csv\", requirements=[dep])"
   ]
  },
  {
   "cell_type": "code",
   "execution_count": 13,
   "metadata": {},
   "outputs": [
    {
     "name": "stdout",
     "output_type": "stream",
     "text": [
      "> /home/alex/Desktop/datablocks/datablocks/orchestration.py(38)create_dag()\n",
      "-> for transform in transforms:\n",
      "(Pdb) c\n"
     ]
    },
    {
     "name": "stderr",
     "output_type": "stream",
     "text": [
      "/home/alex/miniconda3/envs/datablocks-dev/lib/python3.6/site-packages/airflow/models.py:3271: PendingDeprecationWarning: The requested task could not be added to the DAG because a task with task_id transform is already in the DAG. Starting in Airflow 2.0, trying to overwrite a task will raise an exception.\n",
      "  category=PendingDeprecationWarning)\n",
      "/home/alex/miniconda3/envs/datablocks-dev/lib/python3.6/site-packages/airflow/models.py:3271: PendingDeprecationWarning: The requested task could not be added to the DAG because a task with task_id deposit is already in the DAG. Starting in Airflow 2.0, trying to overwrite a task will raise an exception.\n",
      "  category=PendingDeprecationWarning)\n"
     ]
    },
    {
     "data": {
      "text/plain": [
       "<DAG: my_task>"
      ]
     },
     "execution_count": 13,
     "metadata": {},
     "output_type": "execute_result"
    }
   ],
   "source": [
    "dag = create_dag(depositors=[dep], transforms=[trans])\n",
    "dag"
   ]
  },
  {
   "cell_type": "code",
   "execution_count": 14,
   "metadata": {},
   "outputs": [
    {
     "name": "stdout",
     "output_type": "stream",
     "text": [
      "<Task(BashOperator): transform>\n",
      "    <Task(BashOperator): deposit>\n",
      "<Task(BashOperator): deposit>\n"
     ]
    }
   ],
   "source": [
    "dag.tree_view()"
   ]
  },
  {
   "cell_type": "code",
   "execution_count": 9,
   "metadata": {},
   "outputs": [],
   "source": [
    "dag.tree_view?"
   ]
  },
  {
   "cell_type": "code",
   "execution_count": null,
   "metadata": {
    "collapsed": true
   },
   "outputs": [],
   "source": []
  }
 ],
 "metadata": {
  "kernelspec": {
   "display_name": "Python 3",
   "language": "python",
   "name": "python3"
  },
  "language_info": {
   "codemirror_mode": {
    "name": "ipython",
    "version": 3
   },
   "file_extension": ".py",
   "mimetype": "text/x-python",
   "name": "python",
   "nbconvert_exporter": "python",
   "pygments_lexer": "ipython3",
   "version": "3.6.1"
  }
 },
 "nbformat": 4,
 "nbformat_minor": 2
}
